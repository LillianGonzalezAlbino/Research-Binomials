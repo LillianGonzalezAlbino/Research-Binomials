{
 "cells": [
  {
   "cell_type": "markdown",
   "metadata": {},
   "source": [
    "# Lillian González Albino   \n",
    "## Binomios de Involución\n",
    "\n",
    "A continuación se encuentra el código utilizado para formar conjeturas postuladas en el technical report Agosto 2018. Se documenta todo el procedimiento comenzando con las funciones que se utilizaron para probar que $P(x)=x^m(x^{\\frac{p-1}{2}}+a)$ es permutación en $\\mathbb{F}_p$, seguido por las conjeturas formadas para buscar condiciones suficientes y necesarias para que $P(x)$ sea involución en $\\mathbb{F}_p$. Se documentan los resultados de las conjeturas, pero no se despliegan ya que los resultados contradicen las conjeturas, también se documenta los próximos pasos a seguir. Al final se despliegan los resultados de la última conjetura hecha ya que los resultados van acorde con la conjetura. Esta última conjetura se probará luego en el technical report Agosto 2018."
   ]
  },
  {
   "cell_type": "markdown",
   "metadata": {},
   "source": [
    "Verificar conjetura: Sea $(m,p-1)=1$. Si $\\eta(a^2-1)=1$, entonces $P(x)=x^m(x^{\\frac{p-1}{2}}+a)$ es permutación en $\\mathbb{F}_p$"
   ]
  },
  {
   "cell_type": "code",
   "execution_count": 2,
   "metadata": {
    "collapsed": true
   },
   "outputs": [],
   "source": [
    "#input: p primo\n",
    "#output: lista de enteros\n",
    "#recibe un primo p y devuelve una lista de todas las a que \n",
    "#satisfacen que a^2-1 se un residuo cuadratico mod p\n",
    "\n",
    "def findAs(p):\n",
    "    listOfAs =[]\n",
    "    b = quadratic_residues(p)\n",
    "    for a in range(p):\n",
    "        if((a^2-1)%p in b):\n",
    "            if(a != 0 and (a^2-1)%p != 0):\n",
    "                listOfAs.append(a)\n",
    "    return listOfAs\n",
    "    \n",
    "#input: p primo\n",
    "#output: lista de enteros\n",
    "#recibe un primo p y devuelve una lista de todas las m \n",
    "#que sean relativamente primas a p-1\n",
    "\n",
    "def findMs(p):\n",
    "    listOfMs = []\n",
    "    for m in range(p):\n",
    "        if(gcd(m,p-1)==1):\n",
    "            listOfMs.append(m)\n",
    "    return listOfMs\n",
    "\n",
    "#input: primo p, int a, int m\n",
    "#output: bool\n",
    "#recibe un primo p, una a y una m y verifica si el polinomio \n",
    "#con las dadas variables es de permutacion\n",
    "\n",
    "def checkifPP(p,a,m):\n",
    "    A = range(p)\n",
    "    B = []\n",
    "    for x in A:\n",
    "        P = x^m * (x^((p-1)/2) + a)\n",
    "        B.append(P%p)\n",
    "    if(set(A) == set(B)):\n",
    "        return True\n",
    "    else:\n",
    "        return False\n",
    "\n",
    "#input: primo p, lista de enteros lA, lista de enteros lM\n",
    "#output: void\n",
    "#recibe un primo p y una lista de as y ms y verifica si todas \n",
    "#las combinaciones de as y ms (bajo mod p) son polinomios de \n",
    "#permutacion. Despliega las combinaciones (p,m,a) que no sean \n",
    "#de permutacion\n",
    "\n",
    "def checkAllPP(p, lA, lM):\n",
    "    for a in lA:\n",
    "        for m in lM:\n",
    "            if(checkifPP(p,a,m)==False):\n",
    "                print(p,a,m)"
   ]
  },
  {
   "cell_type": "markdown",
   "metadata": {},
   "source": [
    "Funciones que devuelven todas las involuciones en $\\mathbb{Z}_p$ dado un primo $p$. "
   ]
  },
  {
   "cell_type": "code",
   "execution_count": 3,
   "metadata": {
    "collapsed": true
   },
   "outputs": [],
   "source": [
    "#input: p pirmo, int c\n",
    "#output: i int\n",
    "#recibe un p primo y un int c, calcula alpha^i \n",
    "#(alpha raiz primitiva de Z_p) y devuelve i \n",
    "\n",
    "def findi(p, c):\n",
    "    alpha = primitive_root(p)\n",
    "    for i in range(p):\n",
    "        if((alpha^i)%p == c):\n",
    "            return i\n",
    "\n",
    "#input: p primo, int m, int a\n",
    "#output: bool\n",
    "#recibe un p primo, int m, int a, y verifica si el binomio \n",
    "#con las dadas variables es de involucion\n",
    "#add verificar puntos fijos > 0\n",
    "\n",
    "def checkifInv(p,m,a):\n",
    "    h = (p-1)/2\n",
    "    d = 0\n",
    "    for x in range(1,p+1):\n",
    "        Px = ( x^m * (x^h + a) )%p\n",
    "        PPx = ( Px^m * (Px^h + a) )%p\n",
    "        if(Px == x):\n",
    "            d += 1\n",
    "        if(PPx == 0):\n",
    "            PPx = p\n",
    "        if(PPx != x):\n",
    "            return False\n",
    "    if(d > 0):\n",
    "        return True\n",
    "    else:\n",
    "        return False\n",
    "\n",
    "#input: p primo\n",
    "#output: lista (int, int, int)\n",
    "#recibe un primo p y calcula todas las involucione de esa p \n",
    "#y devuelve una lista con elementos tuplas (p,m,a) que hacen \n",
    "#el binomio una involucion\n",
    "\n",
    "def findAllInv(p):\n",
    "    lM = findMs(p)\n",
    "    lA = findAs(p)\n",
    "    lInv = []\n",
    "    for m in lM:\n",
    "        for a in lA:\n",
    "            if(checkifInv(p,m,a)):\n",
    "                lInv.append((m,a))\n",
    "    return lInv\n",
    "\n",
    "#input: primo p, int m, int a\n",
    "#output: int d\n",
    "#recive un primo p, int m, int a, verifica si es un \n",
    "#polinomio de involucion y si lo es devuelve la cantidad \n",
    "#de puntos fijos del mismo\n",
    "\n",
    "def countFixedPoints(p,m,a):\n",
    "    if(checkifInv(p,m,a)==False):\n",
    "        return -1\n",
    "    else:\n",
    "        d = 0\n",
    "        for x in range(1,p):\n",
    "            Px = ( x^m * (x^((p-1)/2) + a) )%p\n",
    "            if( x == Px ):\n",
    "                d += 1\n",
    "        return d\n",
    "\n",
    "#input: p primo, int m,a,d\n",
    "#output: int k\n",
    "#recibe p primo, int m,a,d y devuelve k = ((m+1)*d)/(p-1)\n",
    "#note: solo funciona cuando las variables dadas son \n",
    "#involucion del polinomio\n",
    "\n",
    "def findK(p,m,a,d):\n",
    "    k = ((m+1)*d)/(p-1)\n",
    "    return k\n",
    "\n",
    "#input: p primo\n",
    "#output: lista (int,int,int,int)\n",
    "#recibe un primo p, calcula todas las involuciones, \n",
    "#sus puntos fijos, y su k = ((m+1)*d)/(p-1) y los \n",
    "#devuelve en una lista de tuplas conteniendo las invulociones\n",
    "\n",
    "def findAllKandD(p):\n",
    "    lI = findAllInv(p)\n",
    "    lInvDK = []\n",
    "    for elem in lI:\n",
    "        m = elem[0]\n",
    "        a = elem[1]\n",
    "        d = countFixedPoints(p,m,a)\n",
    "        if( d != 0 ):\n",
    "            k = findK(p,m,a,d)\n",
    "            lInvDK.append((p,m,a,d,k))\n",
    "    return lInvDK"
   ]
  },
  {
   "cell_type": "markdown",
   "metadata": {},
   "source": [
    "Funcion que devuelve todas las involuciones de $\\mathbb{Z}_p$ para distintos primos $p$"
   ]
  },
  {
   "cell_type": "code",
   "execution_count": 4,
   "metadata": {
    "collapsed": true
   },
   "outputs": [],
   "source": [
    "#input: int frm, int n, int fixpoint (opcional)\n",
    "#output: void\n",
    "#verifica todas las involuciones desde el proximo primo despues de \n",
    "#frm y los proximos n primos despues de from y despliega las \n",
    "#combiaciones (p,m,a,d,k) de involuciones. Si el argumento fixpoint \n",
    "#esta dado, solo despliega las involvuciones con fixpoint cantidad \n",
    "#de puntos fijos (sin incluir el 0)\n",
    "\n",
    "def findInvolution(frm, n, fixpoint = None):\n",
    "    P = Primes()\n",
    "    p = frm -1\n",
    "    for i in range(n):\n",
    "        p = P.next(p)\n",
    "        for elem in findAllKandD(p):\n",
    "            d = elem[3]\n",
    "            if(fixpoint is None):\n",
    "                print(elem)\n",
    "            else:\n",
    "                if(d == fixpoint):\n",
    "                    print(elem)"
   ]
  },
  {
   "cell_type": "markdown",
   "metadata": {},
   "source": [
    "Función complementaria que devuelve todas las $i$ tal que $\\alpha^i=c$ para una lista dada de c's  \n",
    "($\\alpha$ raiz primitida de $\\mathbb{Z}_p$)"
   ]
  },
  {
   "cell_type": "code",
   "execution_count": 5,
   "metadata": {
    "collapsed": true
   },
   "outputs": [],
   "source": [
    "#input: p primo, lista int lC\n",
    "#output: void\n",
    "#recibe un primo p y una lista de cs, despliega todas las i tal \n",
    "#que alpha^i==c (alpha raiz primitida de Z_p)\n",
    "\n",
    "def findAlli(p, lC):        \n",
    "    for x in lC:            \n",
    "        print(x,findi(p, x))"
   ]
  },
  {
   "cell_type": "markdown",
   "metadata": {},
   "source": [
    "Funciones complementaria que clasifica a $p$ de la forma $4k+1$ o $4k+3$ ($k \\in \\mathbb{Z}$)"
   ]
  },
  {
   "cell_type": "code",
   "execution_count": 6,
   "metadata": {
    "collapsed": true
   },
   "outputs": [],
   "source": [
    "#input: p primo\n",
    "#output: 1,3 \n",
    "#coge un primo p y devuelve 1 si p=4k+1 y, 3 si p=4k+3\n",
    "def findPform(p):\n",
    "    pForm = 0\n",
    "    if(((p-1) % 4) == 0):\n",
    "        pForm = 1\n",
    "    if(((p-3) % 4) == 0):\n",
    "        pForm = 3\n",
    "    return pForm\n",
    "\n",
    "#input: p primo\n",
    "#output: coge los primeros 10 primos desde p y \n",
    "#devuelve 1 si p=4k+1 y, 3 si p=4k+3 para cada p\n",
    "def pForms(startP):\n",
    "    P = Primes()\n",
    "    p = startP - 1\n",
    "    for i in range(10):\n",
    "        p = P.next(p)\n",
    "        print(p, findPform(p))"
   ]
  },
  {
   "cell_type": "markdown",
   "metadata": {},
   "source": [
    "Tratanto de probar conjeturas pasadas sobre $P(x)$ se encontró que para $m^2 = \\frac{p-1}{2} (impar) + 1$ no se cumplen. Esta función es para encontrar $m^2$ que satisfacen estas condiciones para poder estudiarlas."
   ]
  },
  {
   "cell_type": "code",
   "execution_count": 7,
   "metadata": {
    "collapsed": true
   },
   "outputs": [],
   "source": [
    "#buscar involuciones \n",
    "#buscar m^2 que cumplan con condiciones dadas \n",
    "def m_squared(p):\n",
    "    invs = findAllInv(p)\n",
    "    for inv in invs:\n",
    "        #print(inv)\n",
    "        m = inv[0]\n",
    "        a = inv[1]\n",
    "        var = (2*(m^2-1))/(p-1)\n",
    "        print(m,a,(m^2)%p,var)"
   ]
  },
  {
   "cell_type": "markdown",
   "metadata": {},
   "source": [
    "Fijando diferentes $p$ se encontró con la función anterior que el único primo $p<90$ que satisface las condiciones dadas es $p=17$. Estudiaremos más a fondo este primo."
   ]
  },
  {
   "cell_type": "markdown",
   "metadata": {},
   "source": [
    "Función complementaria que verifica proposiciones (pasadas como parámetros) para diferentes primos $p$"
   ]
  },
  {
   "cell_type": "code",
   "execution_count": 8,
   "metadata": {
    "collapsed": false
   },
   "outputs": [],
   "source": [
    "#input: p primo, int amount, funcion func (que su output sea void)\n",
    "#output: void\n",
    "#Despliega el output de la funcion (func) para una \n",
    "#cantidad (amount) de primos\n",
    "def checkpropDifferentP(p, amount, func):\n",
    "    P = Primes()\n",
    "    for i in range(amount):\n",
    "        func(p)\n",
    "        p = P.next(p)"
   ]
  },
  {
   "cell_type": "markdown",
   "metadata": {},
   "source": [
    "Verificar conjetura 1: Sea $(m,q-1)=1$. Si $\\eta(a^2-1)=1$ y $m^2 \\equiv 1 \\ (mod \\ \\frac{q-1}{2})$ y $(a+1)^{m+1} = 1$, entonces P(x) es involución en $\\mathbb{F}_q$\n",
    "\n",
    "Todo reducido mod $p$"
   ]
  },
  {
   "cell_type": "code",
   "execution_count": 9,
   "metadata": {
    "collapsed": true
   },
   "outputs": [],
   "source": [
    "#input: p primo\n",
    "#output: void\n",
    "# verifica la conjetura: gcd(m,p-1)==1 y a^2-1 r.c. y \n",
    "#m^2 congr 1 (mod) (p-1)/2 y (a+1)^(m+1) % p == 1  => involucion\n",
    "def checkprop1(p):\n",
    "    lA = findAs(p)\n",
    "    for m in range(p):\n",
    "        if(gcd(m, p-1)==1):\n",
    "            halfp = (p-1)/2\n",
    "            if(m^2 % halfp == 1):\n",
    "                for a in lA:\n",
    "                    plusa = a+1\n",
    "                    minusa = a-1\n",
    "                    expo = m+1\n",
    "                    if(plusa^expo % p == 1):\n",
    "                        print(p,m,a,checkifInv(p,m,a))"
   ]
  },
  {
   "cell_type": "markdown",
   "metadata": {},
   "source": [
    "Se encontró en el output anterior, salieron todas las involuciones, sin embargo, también salieron otras combinaciones de (p,m,a) que no hacen $P(x)$ una involución."
   ]
  },
  {
   "cell_type": "markdown",
   "metadata": {},
   "source": [
    "Verificar conjetura 2: Sea $(m,q-1)=1$. Si $\\eta(a^2-1)=1$ y $m^2 \\equiv 1 \\ (mod \\ \\frac{q-1}{2})$ y $(a+1)^{m+1} = 1$ y $(a-1)^{m+1} = 1$, entonces P(x) es involución en $\\mathbb{F}_q$\n",
    "\n",
    "Todo reducido mod $p$"
   ]
  },
  {
   "cell_type": "code",
   "execution_count": 10,
   "metadata": {
    "collapsed": false
   },
   "outputs": [],
   "source": [
    "#input: p primo\n",
    "#output: void\n",
    "# verifica la conjetura: gcd(m,p-1)==1 y a^2-1 r.c. y \n",
    "#m^2 congr 1 (mod) (p-1)/2 y (a+1)^(m+1) == 1  y \n",
    "#(a-1)^(m+1) == 1 => involucion\n",
    "def checkprop2(p):\n",
    "    lA = findAs(p)\n",
    "    for m in range(p):\n",
    "        if(gcd(m, p-1)==1):\n",
    "            halfp = (p-1)/2\n",
    "            if(m^2 % halfp == 1):\n",
    "                for a in lA:\n",
    "                    plusa = a+1\n",
    "                    minusa = a-1\n",
    "                    expo = m+1\n",
    "                    if(plusa^expo % p == 1):\n",
    "                        if(minusa^expo % p == 1):\n",
    "                            print(p,m,a,checkifInv(p,m,a))"
   ]
  },
  {
   "cell_type": "markdown",
   "metadata": {},
   "source": [
    "Se encontró en el output anterior que, al igual que en la conjetura 1, salen \"todas\" las involuciones pero también salen otras combinaciones de (p,m,a) que no hacen a $P(x)$ una involución. Con la excepción del p=17 en el cual solo salen mitad de las permutaciones.\n",
    "\n",
    "Observacion: Para todas las involuciones $(a+1)^{m+1}=1$ pero para solo algunas $(a-1)^{m+1}=1$."
   ]
  },
  {
   "cell_type": "markdown",
   "metadata": {},
   "source": [
    "Modificación conjetura 2: Sea $(m,q-1)=1$. Si $\\eta(a^2-1)=1$ y $m^2 \\equiv 1 \\ (mod \\ \\frac{q-1}{2})$ y $(a+1)^{m+1} = 1$ y [$(a-1)^{m+1} = 1$ o $(a-1)^{m+1} = -1$], entonces P(x) es involución en $\\mathbb{F}_q$\n",
    "\n",
    "Todo reducido mod $p$"
   ]
  },
  {
   "cell_type": "code",
   "execution_count": 11,
   "metadata": {
    "collapsed": true
   },
   "outputs": [],
   "source": [
    "#input: p primo\n",
    "#output: void\n",
    "# verifica la conjetura: gcd(m,p-1)==1 y a^2-1 r.c. y \n",
    "#m^2 congr 1 (mod) (p-1)/2 y (a+1)^(m+1) == 1  y (a-1)^(m+1) == 1 \n",
    "#o -1 => involucion\n",
    "def checkprop25(p):\n",
    "    lA = findAs(p)\n",
    "    for m in range(p):\n",
    "        if(gcd(m, p-1)==1):\n",
    "            halfp = (p-1)/2\n",
    "            if(m^2 % halfp == 1):\n",
    "                for a in lA:\n",
    "                    plusa = a+1\n",
    "                    minusa = a-1\n",
    "                    expo = m+1\n",
    "                    if(plusa^expo % p == 1):\n",
    "                        v = -1 % p\n",
    "                        if(minusa^expo % p == 1):\n",
    "                            print(p,m,a,checkifInv(p,m,a))\n",
    "                        if(minusa^expo % p == v):\n",
    "                            print(p,m,a,checkifInv(p,m,a))"
   ]
  },
  {
   "cell_type": "markdown",
   "metadata": {},
   "source": [
    "Se encontró en el output anterior que con las condiciones dadas salen todas las involuciones (incluyendo p=17) pero también salen combinaciones (p,m,a) que no hacen a P(x) una involución\n",
    "\n",
    "Próximo paso: verificar otras condiciones que pueden reducir el output para que solamente salgan las involuciones. Aparte, averiguar cuándo $(a-1)^{m+1}$ es igual a 1 y cuándo es igual a -1."
   ]
  },
  {
   "cell_type": "markdown",
   "metadata": {},
   "source": [
    "Verificar conjetura 3: Sea $(m,q-1)=1$. Si $\\eta(a^2-1)=1$ y $m^2 \\equiv 1 \\ (mod \\ \\frac{q-1}{2})$ y $(a+1)^{m+1} = 1$ y $(a+1)^{\\frac{p-1}{2}} = 1$ y [$(a-1)^{m+1} = 1$ o $(a-1)^{m+1} = -1$], entonces P(x) es involución en $\\mathbb{F}_q$ \n",
    "\n",
    "Todo reducido mod $p$"
   ]
  },
  {
   "cell_type": "code",
   "execution_count": 12,
   "metadata": {
    "collapsed": true
   },
   "outputs": [],
   "source": [
    "#input: p primo\n",
    "#output: void\n",
    "# verifica la conjetura: gcd(m,p-1)==1 y a^2-1 r.c. \n",
    "#y m^2 congr 1 (mod) (p-1)/2 y (a+1)^(m+1) == 1  y (a-1)^(m+1) == 1 \n",
    "#o -1 y (a+1)^((p-1)/2) => involucion\n",
    "def checkprop3(p):\n",
    "    lA = findAs(p)\n",
    "    for m in range(p):\n",
    "        if(gcd(m, p-1)==1):\n",
    "            halfp = (p-1)/2\n",
    "            if(m^2 % halfp == 1):\n",
    "                for a in lA:\n",
    "                    plusa = a+1\n",
    "                    minusa = a-1\n",
    "                    expo = m+1\n",
    "                    halfp = (p-1)/2\n",
    "                    if(plusa^expo % p == 1):\n",
    "                        if(plusa^halfp % p == 1):\n",
    "                            v = -1 % p\n",
    "                            if(minusa^expo % p == 1):\n",
    "                                print(p,m,a,checkifInv(p,m,a))\n",
    "                            if(minusa^expo % p == v):\n",
    "                                print(p,m,a,checkifInv(p,m,a))"
   ]
  },
  {
   "cell_type": "markdown",
   "metadata": {},
   "source": [
    "Se encontró en el output anterior que para $p=4k+3$ salen todas las involuciones y no sobran ningunos pares ordenados (p,m,a) que no hagan a $P(x)$ involución. Es decir, tenemos condiciones suficientes y necesarias para que $P(x)$ sea involución. Sin embargo, para $p=4k+1$, aunque salen todas las involcuiones todavía salen otros pares ordenados (p,m,a) que no hacen a $P(x)$ una involución.\n",
    "\n",
    "Próximos pasos:   \n",
    "1) Ver si para $p=4k+3$ se puede eliminar el caso de $(a-1)^{m+1}=-1$ y si con $(a-1)^{m+1}=1$ junto con las otras dos condiciones es suficiente y necesario para generar las involuciones.   \n",
    "2) Buscar otra condición adicional para $p=4k+1$ que haga que sean suficientes y necesarias para que sea involución.  \n",
    "3) (De las observaciones de la conjetura 2 modificada) Ver cuándo $(a-1)^{m+1}=-1$ y cuándo $(a-1)^{m+1}=1$"
   ]
  },
  {
   "cell_type": "markdown",
   "metadata": {
    "collapsed": true
   },
   "source": [
    "Verificar conjetura 4: Sea $(m,q-1)=1$ y $p=4k+3$. Si $\\eta(a^2-1)=1$ y $m^2 \\equiv 1 \\ (mod \\ \\frac{q-1}{2})$ y $(a+1)^{m+1} = 1$ y $(a+1)^{\\frac{p-1}{2}} = 1$ y $(a-1)^{m+1} = 1$, entonces P(x) es involución en $\\mathbb{F}_q$ \n",
    "\n",
    "Todo reducido mod $p$"
   ]
  },
  {
   "cell_type": "code",
   "execution_count": 13,
   "metadata": {
    "collapsed": true
   },
   "outputs": [],
   "source": [
    "#input: p primo\n",
    "#output: void\n",
    "# verifica la conjetura 2: p=4k+3 y gcd(m,p-1)==1 y a^2-1 r.c. \n",
    "#y m^2 congr 1 (mod) (p-1)/2 y (a+1)^(m+1) == 1  y (a-1)^(m+1) == 1 \n",
    "#y (a+1)^((p-1)/2)=1 => involucion\n",
    "def checkprop4(p):\n",
    "    if(findPform(p)==3):\n",
    "        lA = findAs(p)\n",
    "        for m in range(p):\n",
    "            if(gcd(m, p-1)==1):\n",
    "                halfp = (p-1)/2\n",
    "                if(m^2 % halfp == 1):\n",
    "                    for a in lA:\n",
    "                        plusa = a+1\n",
    "                        minusa = a-1\n",
    "                        expo = m+1\n",
    "                        halfp = (p-1)/2\n",
    "                        if(plusa^expo % p == 1):\n",
    "                            if(plusa^halfp % p == 1):\n",
    "                                if(minusa^expo % p == 1):\n",
    "                                    print(p,m,a,checkifInv(p,m,a))\n",
    "    else:\n",
    "        print(\"p=4k+1\")"
   ]
  },
  {
   "cell_type": "markdown",
   "metadata": {},
   "source": [
    "Se encontró con la función anterior que las condiciones dadas son suficiente y necesarias para que $P(x)$ esa involución con $p=4k+3$  \n",
    "\n",
    "Próximos pasos:  \n",
    "1) Buscar otra condición adicional para $p=4k+1$ que haga que sean suficientes y necesarias para que sea involución.  \n",
    "2) (de las observaciones de la conjetura 2 modificada) Ver cuándo $(a-1)^{m+1}=-1$ y cuándo $(a-1)^{m+1}=1$"
   ]
  },
  {
   "cell_type": "markdown",
   "metadata": {},
   "source": [
    "Resultados de la conjetura 4"
   ]
  },
  {
   "cell_type": "code",
   "execution_count": 15,
   "metadata": {
    "collapsed": false
   },
   "outputs": [
    {
     "name": "stdout",
     "output_type": "stream",
     "text": [
      "(7, 5, 3, True)\n",
      "(11, 9, 2, True)\n",
      "(11, 9, 4, True)\n",
      "(19, 17, 5, True)\n",
      "(19, 17, 6, True)\n",
      "(19, 17, 8, True)\n",
      "(19, 17, 10, True)\n",
      "(23, 21, 2, True)\n",
      "(23, 21, 3, True)\n",
      "(23, 21, 5, True)\n",
      "(23, 21, 7, True)\n",
      "(23, 21, 17, True)\n",
      "(31, 19, 3, True)\n",
      "(31, 29, 3, True)\n",
      "(31, 29, 6, True)\n",
      "(31, 29, 8, True)\n",
      "(31, 29, 9, True)\n",
      "(31, 29, 15, True)\n",
      "(31, 29, 17, True)\n",
      "(31, 29, 19, True)\n",
      "(43, 41, 5, True)\n",
      "(43, 41, 10, True)\n",
      "(43, 41, 12, True)\n",
      "(43, 41, 14, True)\n",
      "(43, 41, 15, True)\n",
      "(43, 41, 16, True)\n",
      "(43, 41, 22, True)\n",
      "(43, 41, 24, True)\n",
      "(43, 41, 37, True)\n",
      "(43, 41, 39, True)\n",
      "(47, 45, 2, True)\n",
      "(47, 45, 3, True)\n",
      "(47, 45, 5, True)\n",
      "(47, 45, 7, True)\n",
      "(47, 45, 8, True)\n",
      "(47, 45, 13, True)\n",
      "(47, 45, 15, True)\n",
      "(47, 45, 17, True)\n",
      "(47, 45, 26, True)\n",
      "(47, 45, 33, True)\n",
      "(47, 45, 35, True)\n",
      "(59, 57, 2, True)\n",
      "(59, 57, 4, True)\n",
      "(59, 57, 6, True)\n",
      "(59, 57, 8, True)\n",
      "(59, 57, 16, True)\n",
      "(59, 57, 18, True)\n",
      "(59, 57, 20, True)\n",
      "(59, 57, 21, True)\n",
      "(59, 57, 26, True)\n",
      "(59, 57, 27, True)\n",
      "(59, 57, 28, True)\n",
      "(59, 57, 47, True)\n",
      "(59, 57, 50, True)\n",
      "(59, 57, 52, True)\n",
      "(67, 43, 23, True)\n",
      "(67, 43, 63, True)\n",
      "(67, 65, 5, True)\n",
      "(67, 65, 15, True)\n",
      "(67, 65, 16, True)\n",
      "(67, 65, 18, True)\n",
      "(67, 65, 20, True)\n",
      "(67, 65, 22, True)\n",
      "(67, 65, 23, True)\n",
      "(67, 65, 24, True)\n",
      "(67, 65, 25, True)\n",
      "(67, 65, 34, True)\n",
      "(67, 65, 36, True)\n",
      "(67, 65, 38, True)\n",
      "(67, 65, 48, True)\n",
      "(67, 65, 55, True)\n",
      "(67, 65, 61, True)\n",
      "(67, 65, 63, True)\n",
      "(71, 41, 31, True)\n",
      "(71, 69, 2, True)\n",
      "(71, 69, 3, True)\n",
      "(71, 69, 4, True)\n",
      "(71, 69, 5, True)\n",
      "(71, 69, 7, True)\n",
      "(71, 69, 9, True)\n",
      "(71, 69, 11, True)\n",
      "(71, 69, 17, True)\n",
      "(71, 69, 19, True)\n",
      "(71, 69, 26, True)\n",
      "(71, 69, 28, True)\n",
      "(71, 69, 31, True)\n",
      "(71, 69, 37, True)\n",
      "(71, 69, 39, True)\n",
      "(71, 69, 44, True)\n",
      "(71, 69, 49, True)\n",
      "(71, 69, 59, True)\n",
      "(79, 25, 9, True)\n",
      "(79, 25, 63, True)\n",
      "(79, 25, 66, True)\n",
      "(79, 77, 3, True)\n",
      "(79, 77, 9, True)\n",
      "(79, 77, 10, True)\n",
      "(79, 77, 12, True)\n",
      "(79, 77, 17, True)\n",
      "(79, 77, 19, True)\n",
      "(79, 77, 20, True)\n",
      "(79, 77, 21, True)\n",
      "(79, 77, 22, True)\n",
      "(79, 77, 24, True)\n",
      "(79, 77, 37, True)\n",
      "(79, 77, 39, True)\n",
      "(79, 77, 41, True)\n",
      "(79, 77, 43, True)\n",
      "(79, 77, 45, True)\n",
      "(79, 77, 50, True)\n",
      "(79, 77, 51, True)\n",
      "(79, 77, 63, True)\n",
      "(79, 77, 66, True)\n",
      "(83, 81, 2, True)\n",
      "(83, 81, 8, True)\n",
      "(83, 81, 10, True)\n",
      "(83, 81, 11, True)\n",
      "(83, 81, 22, True)\n",
      "(83, 81, 24, True)\n",
      "(83, 81, 26, True)\n",
      "(83, 81, 27, True)\n",
      "(83, 81, 28, True)\n",
      "(83, 81, 29, True)\n",
      "(83, 81, 30, True)\n",
      "(83, 81, 32, True)\n",
      "(83, 81, 37, True)\n",
      "(83, 81, 39, True)\n",
      "(83, 81, 50, True)\n",
      "(83, 81, 60, True)\n",
      "(83, 81, 62, True)\n",
      "(83, 81, 64, True)\n",
      "(83, 81, 69, True)\n",
      "(83, 81, 76, True)\n"
     ]
    }
   ],
   "source": [
    "#lista de primos de la forma p=4k+3\n",
    "p3 = [7,11,19,23,31,43,47,59,67,71,79,83]\n",
    "for p in p3:\n",
    "    checkprop4(p)"
   ]
  },
  {
   "cell_type": "markdown",
   "metadata": {},
   "source": [
    "Se puede verificar que en el output anterior salen todas las involuciones de $P(x)$ para $p=4k+3$"
   ]
  }
 ],
 "metadata": {
  "kernelspec": {
   "display_name": "SageMath 6.10",
   "language": "",
   "name": "sagemath"
  },
  "language_info": {
   "codemirror_mode": {
    "name": "ipython",
    "version": 2
   },
   "file_extension": ".py",
   "mimetype": "text/x-python",
   "name": "python",
   "nbconvert_exporter": "python",
   "pygments_lexer": "ipython2",
   "version": "2.7.10"
  }
 },
 "nbformat": 4,
 "nbformat_minor": 0
}
