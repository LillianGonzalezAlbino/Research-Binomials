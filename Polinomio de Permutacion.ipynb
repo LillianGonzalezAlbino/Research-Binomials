{
 "cells": [
  {
   "cell_type": "markdown",
   "metadata": {},
   "source": [
    "Función que evalúa todas las $x$ en $F_p$ en el polinomio $P(x)=x^m(x^{\\frac{p-1}{2}}+B)$ con m y B fijas"
   ]
  },
  {
   "cell_type": "code",
   "execution_count": 1,
   "metadata": {
    "collapsed": false
   },
   "outputs": [],
   "source": [
    "#input: p primo, m y B int modulo p\n",
    "#output: tuplas (x, P(x), P(P(x))) con todas las x, 1<=x<=p\n",
    "def evaluateP(p,m,B):\n",
    "    for a in range(1,p+1):\n",
    "        pol = ( a^m *(a^((p-1)/2) + B) ) % p\n",
    "        if(pol == 0):\n",
    "            pol = p\n",
    "        ppol = ( pol^m *(pol^((p-1)/2) + B) ) % p\n",
    "        if(ppol == 0):\n",
    "            ppol = p\n",
    "        print (a,pol, ppol)\n",
    "        "
   ]
  },
  {
   "cell_type": "markdown",
   "metadata": {},
   "source": [
    "Verificar proposicion: Si $P(x)=x^m(x^{\\frac{p-1}{2}}+B)$ es PP y $gcd(m,p-1)=1$, entonces $nn(B^2-1)=1$   \n",
    "donde nn es la funcion de residuo cuadratico"
   ]
  },
  {
   "cell_type": "code",
   "execution_count": 2,
   "metadata": {
    "collapsed": false
   },
   "outputs": [
    {
     "name": "stdout",
     "output_type": "stream",
     "text": [
      "((7, 1, 3), True)\n",
      "((7, 1, 4), True)\n",
      "((7, 5, 3), True)\n",
      "((7, 5, 4), True)\n"
     ]
    }
   ],
   "source": [
    "#verificar si P(x) es un PP => n(B^2-1)=1\n",
    "\n",
    "#funcion que devuelve True si P(x) es un PP y False de otro modo\n",
    "#input: p primo, m y B int modulo p\n",
    "#output: bool\n",
    "def PP(p,m,B):\n",
    "    elemOfP = list(range(0,p))\n",
    "    elemOfPP = []\n",
    "    for x in range(p):\n",
    "        elem = (x^m * (x^((p-1)/2)+B)) % p\n",
    "        elemOfPP.append(elem)\n",
    "    if (set(elemOfP) == set(elemOfPP)):\n",
    "        return True\n",
    "    else:\n",
    "        return False\n",
    "\n",
    "#verificar\n",
    "#Funcion que recibe p y B. Sea c=(B^2-1) mod p, devuelve -1 si c no es un \n",
    "#residuo cuadratico (res. cuad.) , 1 si c es res. cuad., 0 si c=0\n",
    "#input: p primo, B int modulo p\n",
    "#output: -1,1,0\n",
    "def nn(p,B):\n",
    "    b = quadratic_residues(p)\n",
    "    c = (B^2 -1)%p\n",
    "    if(c!=0 and c in b):\n",
    "        return 1\n",
    "    if(c==0):\n",
    "        return 0\n",
    "    else:\n",
    "        return -1\n",
    "\n",
    "#Funcion que dado p, devuelve todos los PP en F_p\n",
    "#input: p primo\n",
    "#output: lista de tuplas de la forma (p,m,B), p primo, m y B int\n",
    "def findPP(p):\n",
    "    per = Permutations(range(p),2)\n",
    "    ppolynomials = []\n",
    "    for elem in per.list():\n",
    "        m = elem[0]\n",
    "        B = elem[1]\n",
    "        if((B != 0) and (m != 0) and (PP(p,m,B) == True)):\n",
    "            if(gcd(m,p-1)==1):\n",
    "                ppolynomials.append((p,m,B))\n",
    "    return ppolynomials\n",
    "\n",
    "#verificar\n",
    "#given PP returns true if B^2-1 is quadratic residue\n",
    "#Funcion que dado un PP, verifica si nn(B^2-1)=1\n",
    "#input: tupla (p,m,B) p primo, m y B int modulo p\n",
    "#output: bool\n",
    "def if_PP_then_nn(tup):\n",
    "    p = tup[0]\n",
    "    m = tup[1]\n",
    "    B = tup[2]\n",
    "    if ( nn(p,B)==1 ):\n",
    "        return True\n",
    "    else:\n",
    "        return False\n",
    "    \n",
    "\n",
    "#Funcion que dado p, construye los PP en F_p, y chequea si en cada uno se cumple la proposicion, \n",
    "#de no cumplirse, despliega un contraejemplo\n",
    "#input: p primo\n",
    "#output: none (print)\n",
    "def main(p):\n",
    "    #buscar todos los PP (hipotesis)\n",
    "    listOfPP = findPP(p)\n",
    "    for PP in listOfPP:\n",
    "        #verificar si conclusion pasa\n",
    "        if(if_PP_then_nn(PP) == False):\n",
    "            print(PP, False)\n",
    "        else:\n",
    "            print(PP, True)\n",
    "        \n",
    "\n",
    "main(7)"
   ]
  },
  {
   "cell_type": "markdown",
   "metadata": {},
   "source": [
    "Verificar proposicion: Si $nn(B^2-1)=1$ y $gcd(m,p-1)=1$, entonces $P(x)=x^m(x^{\\frac{p-1}{2}}+B)$ es un PP"
   ]
  },
  {
   "cell_type": "code",
   "execution_count": 3,
   "metadata": {
    "collapsed": false
   },
   "outputs": [
    {
     "name": "stdout",
     "output_type": "stream",
     "text": [
      "((7, 1, 3), True)\n",
      "((7, 5, 3), True)\n",
      "((7, 1, 4), True)\n",
      "((7, 5, 4), True)\n"
     ]
    }
   ],
   "source": [
    "#Funcion que recibe una p y devuelve una lista de las B, 1<=B<=p-1, \n",
    "#tal que (B^2-1) es residuo cuadrático en F_p\n",
    "#input: p primo\n",
    "#output: lista B de enteros modulo p\n",
    "def Bs(p):\n",
    "    b = quadratic_residues(p)\n",
    "    B = []\n",
    "    for i in range(1,p):\n",
    "        c = (i^2-1)%p\n",
    "        if(c in b and c!=0):\n",
    "            B.append(i)\n",
    "    return B\n",
    "\n",
    "#verificar proposicion\n",
    "#input: p primo, B lista de enteros modulo p\n",
    "#output: none (print)\n",
    "#Funcion que dada p y una lista de enteros B que cumplen con nn(B^2-1)=1, \n",
    "#busca las m tal que gdc(m,p-1)=1, verifica si P(x) es un PP.\n",
    "#Despliega los argumentos que hacen la hipotesis cierta y T|F dependiendo \n",
    "#de la veracidad de la conclusion \n",
    "def if_nn_and_gcd_then_PP(p, B):\n",
    "    for a in B:\n",
    "        if(a != 0):\n",
    "            for m in range(1,p):\n",
    "                if(gcd(m,p-1)==1):\n",
    "                    if(PP(p,m,a)==False):\n",
    "                        print((p,m,a),false)\n",
    "                    else:\n",
    "                        print((p,m,a),true)\n",
    "\n",
    "#main\n",
    "p = 7                      \n",
    "listaB = Bs(p)\n",
    "if_nn_and_gcd_then_PP(p, listaB)"
   ]
  },
  {
   "cell_type": "markdown",
   "metadata": {},
   "source": [
    "Sea $F_p$, y $\\alpha$   raiz primitiva de $F_p$    \n",
    "Crear funcion que dado un elemto c de $F_p$ devuelva la potencia i de alpha talque $c=\\alpha^i$"
   ]
  },
  {
   "cell_type": "code",
   "execution_count": 4,
   "metadata": {
    "collapsed": false
   },
   "outputs": [
    {
     "name": "stdout",
     "output_type": "stream",
     "text": [
      "1\n",
      "5\n",
      "11\n",
      "7\n"
     ]
    }
   ],
   "source": [
    "#Funcion que dado p y un elememto c de p, devuelve la potencia i de la raíz primitva alpha tq alpha^i=c\n",
    "#input: p primo, c int modulo p\n",
    "#output: i int\n",
    "def findi(p,c):\n",
    "    alpha = primitive_root(p)\n",
    "    for i in range(1,p):\n",
    "        if((alpha^i)%p == c):\n",
    "            return i\n",
    "\n",
    "m=[2,6,7,11]\n",
    "for e in m:\n",
    "    print(findi(13,e))"
   ]
  }
 ],
 "metadata": {
  "kernelspec": {
   "display_name": "SageMath 6.10",
   "language": "",
   "name": "sagemath"
  },
  "language_info": {
   "codemirror_mode": {
    "name": "ipython",
    "version": 2
   },
   "file_extension": ".py",
   "mimetype": "text/x-python",
   "name": "python",
   "nbconvert_exporter": "python",
   "pygments_lexer": "ipython2",
   "version": "2.7.10"
  }
 },
 "nbformat": 4,
 "nbformat_minor": 0
}
